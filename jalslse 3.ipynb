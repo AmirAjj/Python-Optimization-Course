{
 "cells": [
  {
   "cell_type": "code",
   "execution_count": 1,
   "id": "bd3dfa5d",
   "metadata": {},
   "outputs": [
    {
     "name": "stdout",
     "output_type": "stream",
     "text": [
      "Number: 1\n",
      "Number: 2\n",
      "Number: 3\n",
      "Number: 4\n",
      "Number: 5\n"
     ]
    }
   ],
   "source": [
    "# For loop example in Python\n",
    "\n",
    "for i in range(1, 6):\n",
    "    print(\"Number:\", i)\n"
   ]
  },
  {
   "cell_type": "code",
   "execution_count": null,
   "id": "27a26d3b",
   "metadata": {},
   "outputs": [],
   "source": [
    "# Simple for loop that prints squares of numbers from 1 to 5\n",
    "\n",
    "for i in range(1, 6):\n",
    "    print(f\"{i} squared is {i ** 2}\")\n"
   ]
  },
  {
   "cell_type": "code",
   "execution_count": 5,
   "id": "a23ca87b",
   "metadata": {},
   "outputs": [
    {
     "name": "stdout",
     "output_type": "stream",
     "text": [
      "Alice -> Scores: [88, 76, 92] | Average: 85.33\n",
      "Bob -> Scores: [59, 61, 45] | Average: 55.00\n",
      "Charlie -> Scores: [100, 98, 95] | Average: 97.67\n",
      "Diana -> Scores: [70, 60, 65] | Average: 65.00\n"
     ]
    }
   ],
   "source": [
    "# Dictionary of students with their test scores\n",
    "students_scores = {\n",
    "    \"Alice\": [88, 76, 92],\n",
    "    \"Bob\": [59, 61, 45],\n",
    "    \"Charlie\": [100, 98, 95],\n",
    "    \"Diana\": [70, 60, 65]\n",
    "}\n",
    "\n",
    "# Process each student\n",
    "for student, scores in students_scores.items():\n",
    "    total = 0\n",
    "    for score in scores:\n",
    "        total += score\n",
    "    average = total / len(scores)\n",
    "    \n",
    "    \n",
    "    print(f\"{student} -> Scores: {scores} | Average: {average:.2f}\")\n"
   ]
  },
  {
   "cell_type": "code",
   "execution_count": 6,
   "id": "d9130b86",
   "metadata": {},
   "outputs": [
    {
     "name": "stdout",
     "output_type": "stream",
     "text": [
      "Electronics: ['Keyboard', 'Monitor', 'Mouse']\n",
      "Groceries: ['Apple', 'Banana']\n",
      "Clothing: ['Jeans', 'T-shirt']\n"
     ]
    }
   ],
   "source": [
    "# List of product orders\n",
    "orders = [\n",
    "    {\"name\": \"Keyboard\", \"category\": \"Electronics\"},\n",
    "    {\"name\": \"Banana\", \"category\": \"Groceries\"},\n",
    "    {\"name\": \"Mouse\", \"category\": \"Electronics\"},\n",
    "    {\"name\": \"Apple\", \"category\": \"Groceries\"},\n",
    "    {\"name\": \"T-shirt\", \"category\": \"Clothing\"},\n",
    "    {\"name\": \"Jeans\", \"category\": \"Clothing\"},\n",
    "    {\"name\": \"Monitor\", \"category\": \"Electronics\"}\n",
    "]\n",
    "\n",
    "# Group products by category\n",
    "grouped = {}\n",
    "\n",
    "for order in orders:\n",
    "    category = order.get(\"category\")\n",
    "    product = order.get(\"name\")\n",
    "\n",
    "    # Use setdefault to initialize list if key doesn't exist\n",
    "    grouped.setdefault(category, []).append(product)\n",
    "\n",
    "# Sort products in each category\n",
    "for category, products in grouped.items():\n",
    "    products.sort()\n",
    "    print(f\"{category}: {products}\")\n"
   ]
  },
  {
   "cell_type": "code",
   "execution_count": 8,
   "id": "c7b5bcbc",
   "metadata": {},
   "outputs": [
    {
     "name": "stdout",
     "output_type": "stream",
     "text": [
      "{'m': 1, 'i': 4, 's': 4, 'p': 2}\n"
     ]
    }
   ],
   "source": [
    "word = \"mississippi\"\n",
    "letter_count = {}\n",
    "\n",
    "for letter in word:\n",
    "    letter_count.setdefault(letter, 0)\n",
    "    letter_count[letter] += 1\n",
    "\n",
    "print(letter_count)\n"
   ]
  },
  {
   "cell_type": "code",
   "execution_count": null,
   "id": "d7a965a1",
   "metadata": {},
   "outputs": [],
   "source": [
    "number = 10\n",
    "\n",
    "if number > 5:\n",
    "    print(\"Number is greater than 5\")\n"
   ]
  },
  {
   "cell_type": "code",
   "execution_count": 9,
   "id": "e5ab0d93",
   "metadata": {},
   "outputs": [
    {
     "name": "stdout",
     "output_type": "stream",
     "text": [
      "2\n",
      "4\n",
      "6\n",
      "8\n",
      "10\n"
     ]
    }
   ],
   "source": [
    "# Print only even numbers from 1 to 10\n",
    "\n",
    "for i in range(1, 11):\n",
    "    if i % 2 == 0:\n",
    "        print(i)\n"
   ]
  },
  {
   "cell_type": "code",
   "execution_count": 14,
   "id": "d9501d1f",
   "metadata": {},
   "outputs": [
    {
     "name": "stdout",
     "output_type": "stream",
     "text": [
      "Alice passed all subjects with grades [85, 78, 92]\n",
      "Charlie passed all subjects with grades [100, 98, 95]\n",
      "Diana passed all subjects with grades [70, 60, 65]\n"
     ]
    }
   ],
   "source": [
    "students_grades = {\n",
    "    \"Alice\": [85, 78, 92],\n",
    "    \"Bob\": [55, 61, 45],\n",
    "    \"Charlie\": [100, 98, 95],\n",
    "    \"Diana\": [70, 60, 65],\n",
    "    \"Eve\": [58, 59, 62]\n",
    "}\n",
    "\n",
    "for student, grades in students_grades.items():\n",
    "    passed_all = True\n",
    "    for grade in grades:\n",
    "        if grade < 60:\n",
    "            passed_all = False\n",
    "            break  # No need to check further if one subject is failed\n",
    "    \n",
    "    if passed_all:\n",
    "        print(f'{student} passed all subjects with grades {grades}')\n"
   ]
  },
  {
   "cell_type": "code",
   "execution_count": 13,
   "id": "2a2c69e3",
   "metadata": {},
   "outputs": [
    {
     "data": {
      "text/plain": [
       "dict_items([('Alice', [85, 78, 92]), ('Bob', [55, 61, 45]), ('Charlie', [100, 98, 95]), ('Diana', [70, 60, 65]), ('Eve', [58, 59, 62])])"
      ]
     },
     "execution_count": 13,
     "metadata": {},
     "output_type": "execute_result"
    }
   ],
   "source": [
    "students_grades.items()"
   ]
  },
  {
   "cell_type": "code",
   "execution_count": null,
   "id": "ed74209e",
   "metadata": {},
   "outputs": [],
   "source": [
    "products = [\n",
    "    {\"name\": \"Laptop\", \"price\": 999, \"in_stock\": True},\n",
    "    {\"name\": \"Mouse\", \"price\": 25, \"in_stock\": True},\n",
    "    {\"name\": \"Keyboard\", \"price\": 45, \"in_stock\": False},\n",
    "    {\"name\": \"Monitor\", \"price\": 150, \"in_stock\": True},\n",
    "    {\"name\": \"USB Cable\", \"price\": 10, \"in_stock\": True}\n",
    "]\n",
    "\n",
    "for product in products:\n",
    "    if product[\"in_stock\"] and product[\"price\"] < 50:\n",
    "        print(f\"{product['name']} is in stock and costs ${product['price']}\")\n"
   ]
  },
  {
   "cell_type": "code",
   "execution_count": null,
   "id": "a146340a",
   "metadata": {},
   "outputs": [],
   "source": [
    "students_scores = {\n",
    "    \"Alice\": [85, 78, 92],\n",
    "    \"Bob\": [55, 61, 45],\n",
    "    \"Charlie\": [100, 98, 95],\n",
    "    \"Diana\": [70, 60, 65],\n",
    "    \"Eve\": [58, 59, 62]\n",
    "}\n",
    "\n",
    "for student, scores in students_scores.items():\n",
    "    average = sum(scores) / len(scores)\n",
    "    \n",
    "    if average >= 90:\n",
    "        grade = 'A'\n",
    "    elif average >= 80:\n",
    "        grade = 'B'\n",
    "    elif average >= 70:\n",
    "        grade = 'C'\n",
    "    elif average >= 60:\n",
    "        grade = 'D'\n",
    "    else:\n",
    "        grade = 'F'\n",
    "    \n",
    "    print(f\"{student} has an average score of {average:.2f} and grade {grade}\")\n"
   ]
  },
  {
   "cell_type": "code",
   "execution_count": null,
   "id": "98c48d05",
   "metadata": {},
   "outputs": [],
   "source": [
    "# Print numbers from 1 to 5 using a while loop\n",
    "\n",
    "count = 1\n",
    "while count <= 5:\n",
    "    print(count)\n",
    "    count += 1\n"
   ]
  },
  {
   "cell_type": "code",
   "execution_count": 16,
   "id": "dd579b23",
   "metadata": {},
   "outputs": [
    {
     "name": "stdout",
     "output_type": "stream",
     "text": [
      "Total sum is: 33\n"
     ]
    }
   ],
   "source": [
    "total = 0\n",
    "number = None\n",
    "\n",
    "while number != 0:\n",
    "    number = int(input(\"Enter a positive number (0 to stop): \"))\n",
    "    if number < 0:\n",
    "        print(\"Please enter a positive number or 0 to stop.\")\n",
    "        continue\n",
    "    total += number\n",
    "\n",
    "print(f\"Total sum is: {total}\")\n"
   ]
  }
 ],
 "metadata": {
  "kernelspec": {
   "display_name": "Python 3",
   "language": "python",
   "name": "python3"
  },
  "language_info": {
   "codemirror_mode": {
    "name": "ipython",
    "version": 3
   },
   "file_extension": ".py",
   "mimetype": "text/x-python",
   "name": "python",
   "nbconvert_exporter": "python",
   "pygments_lexer": "ipython3",
   "version": "3.11.4"
  }
 },
 "nbformat": 4,
 "nbformat_minor": 5
}
